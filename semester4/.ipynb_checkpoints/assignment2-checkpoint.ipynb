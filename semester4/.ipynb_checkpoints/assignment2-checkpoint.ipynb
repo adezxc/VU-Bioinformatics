{
 "cells": [
  {
   "cell_type": "code",
   "execution_count": 72,
   "id": "c200ffa6-8df0-472e-ba0f-3972ddebae53",
   "metadata": {},
   "outputs": [
    {
     "name": "stdout",
     "output_type": "stream",
     "text": [
      "{0, 3, 6, 9, 11}\n",
      "4\n"
     ]
    }
   ],
   "source": [
    "import numpy as np\n",
    "\n",
    "global recursive_calls\n",
    "recursive_calls = 0\n",
    "\n",
    "def calc_distances(y, points):\n",
    "    distances = set()\n",
    "    for point in points:\n",
    "        distance = abs(y-point)\n",
    "        distances.add(distance)\n",
    "    return distances\n",
    "    \n",
    "\n",
    "def skiena_algo(distances, points, plotis):\n",
    "    global recursive_calls\n",
    "    recursive_calls += 1\n",
    "    if len(distance_array) == 0:\n",
    "        print(points)\n",
    "        return True\n",
    "    y = max(distances)\n",
    "    coverage = calc_distances(y, points)\n",
    "    if coverage.issubset(set(distances)):\n",
    "        points.add(y)\n",
    "        removed_distances = []\n",
    "        for point in coverage:\n",
    "            distances.remove(point)\n",
    "            removed_distances.append(point)\n",
    "        if skiena_algo(distances, points, plotis):\n",
    "            return True\n",
    "        else:\n",
    "            points.remove(y)\n",
    "            for removed_distance in removed_distances:\n",
    "                distances.append(removed_distance)\n",
    "    y = plotis - y\n",
    "    coverage = calc_distances(y, points)\n",
    "    if coverage.issubset(set(distances)):\n",
    "        points.add(y)\n",
    "        removed_distances = []\n",
    "        for point in coverage:\n",
    "            distances.remove(point)\n",
    "            removed_distances.append(point)\n",
    "        if skiena_algo(distances, points, plotis):\n",
    "            return True\n",
    "        else:\n",
    "            points.remove(y)\n",
    "            for removed_distance in removed_distances:\n",
    "                distances.append(removed_distance)\n",
    "    return True\n",
    "            \n",
    "            \n",
    "\n",
    "\n",
    "\n",
    "distance_array = [2,3,3,3,5,6,6,8,9,11]\n",
    "plotis = max(distance_array)\n",
    "distance_array.remove(plotis)\n",
    "expected_result = {0,2,4,7,10}\n",
    "points = {0, plotis}\n",
    "\n",
    "recursive_calls = 0\n",
    "skiena_algo(distance_array, points, plotis)\n",
    "print(points)\n",
    "print(recursive_calls)\n",
    "\n",
    "\n",
    "\n",
    "\n"
   ]
  }
 ],
 "metadata": {
  "kernelspec": {
   "display_name": "Python 3 (ipykernel)",
   "language": "python",
   "name": "python3"
  },
  "language_info": {
   "codemirror_mode": {
    "name": "ipython",
    "version": 3
   },
   "file_extension": ".py",
   "mimetype": "text/x-python",
   "name": "python",
   "nbconvert_exporter": "python",
   "pygments_lexer": "ipython3",
   "version": "3.11.5"
  }
 },
 "nbformat": 4,
 "nbformat_minor": 5
}
