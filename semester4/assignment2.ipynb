{
  "nbformat": 4,
  "nbformat_minor": 0,
  "metadata": {
    "colab": {
      "provenance": [],
      "include_colab_link": true
    },
    "kernelspec": {
      "name": "python3",
      "display_name": "Python 3"
    }
  },
  "cells": [
    {
      "cell_type": "markdown",
      "metadata": {
        "id": "view-in-github",
        "colab_type": "text"
      },
      "source": [
        "<a href=\"https://colab.research.google.com/github/adezxc/VU-Bioinformatics/blob/master/semester4/assignment2.ipynb\" target=\"_parent\"><img src=\"https://colab.research.google.com/assets/colab-badge.svg\" alt=\"Open In Colab\"/></a>"
      ]
    },
    {
      "cell_type": "markdown",
      "metadata": {
        "id": "28aCd0aiDPDM"
      },
      "source": [
        "**Bendra pastaba apie apytikslųjį skaičiavimą**\n",
        "\n",
        "Absoliuti dauguma skaitinių algoritmų skaičiuoja artutiniškai, nes naudojami  *float* ar *double* tipo skaičiai\n"
      ]
    },
    {
      "cell_type": "markdown",
      "metadata": {
        "id": "C3Qig7QLOOCf"
      },
      "source": [
        "**Pavyzdys** 1. Bandome skaičiuoti $\\sqrt 2$:\n",
        "\n",
        "* tiesiog naudojame rekurentinę formulę $x_{n+1}=\\frac{x_n+\\frac{2}{x_n}}{2}$\n",
        "* $x_0=2$ arba kitas...\n",
        "\n",
        "$2x=x+2/x$\n",
        "\n",
        "$2x^2=x^2+2$\n",
        "\n",
        "$x^2=2$\n"
      ]
    },
    {
      "cell_type": "code",
      "metadata": {
        "id": "nWWXcRHtOF9q",
        "colab": {
          "base_uri": "https://localhost:8080/"
        },
        "outputId": "a8f415b9-6dce-40ec-c1c0-c4ac429ecfbb"
      },
      "source": [
        "import numpy as np\n",
        "import sympy as syp # --> https://docs.sympy.org/latest/index.html\n",
        "import math\n",
        "\n",
        "\n",
        "x = 2.0\n",
        "eps = 0.000000000001\n",
        "while abs(x * x - 2) > eps:\n",
        "  print(x)\n",
        "  x = (x + 2.0/x)/2\n",
        "print('-----------')\n",
        "print(str(x) +\" \" + str(x*x))\n"
      ],
      "execution_count": null,
      "outputs": [
        {
          "output_type": "stream",
          "name": "stdout",
          "text": [
            "2.0\n",
            "1.5\n",
            "1.4166666666666665\n",
            "1.4142156862745097\n",
            "1.4142135623746899\n",
            "-----------\n",
            "1.414213562373095 1.9999999999999996\n"
          ]
        }
      ]
    },
    {
      "cell_type": "markdown",
      "metadata": {
        "id": "qKiGd_2CRgs3"
      },
      "source": [
        "**Kairiųjų stačiakampių formulė**:\n",
        "\n",
        "Žr. pvz.: http://www.math.wsu.edu/faculty/genz/140/lessons/l507.pdf\n",
        "\n",
        "$\\int_0^1x^2dx$"
      ]
    },
    {
      "cell_type": "code",
      "metadata": {
        "id": "-pg38S5TUKLg",
        "colab": {
          "base_uri": "https://localhost:8080/"
        },
        "outputId": "d0453c2f-ecf2-429b-87e8-40ac0826b0e2"
      },
      "source": [
        "def f(x):\n",
        "  return x*x\n",
        "\n",
        "\n",
        "def integralas(a,b,N,funkcija):\n",
        "  h = (b-a)*1.0/N  # vienos dalies ilgis\n",
        "  x_taskai = np.array([i * h for i in range(N)])\n",
        "  y_taskai = funkcija(x_taskai)\n",
        "  ploteliai = y_taskai * h\n",
        "  return np.sum(ploteliai)\n",
        "\n",
        "def tikrasNeapibreztinisIntegralas():\n",
        "   x =  syp.symbols('x')\n",
        "   fx = x*x\n",
        "   intFx = syp.integrate(fx,x)\n",
        "   return intFx\n",
        "\n",
        "\n",
        "def tikrasApibreztinisIntegralas(a,b):\n",
        "   x =  syp.symbols('x')\n",
        "   fx = x*x\n",
        "   intFxab = syp.integrate(fx,(x,a,b))\n",
        "   return intFxab\n",
        "\n",
        "\n",
        "a = 0.0\n",
        "b = 1.0\n",
        "N1 = 10\n",
        "N2 = 1000\n",
        "\n",
        "\n",
        "print(\"N1=\" + str(N1) + \" integralas = \" + str(integralas(a,b,N1, f)))\n",
        "print(\"N2=\" + str(N2) + \" integralas = \" + str(integralas(a,b,N2, f)))\n",
        "print('Neapibrėžtinis --> ' + str(tikrasNeapibreztinisIntegralas()))\n",
        "print( \"Tikras integralas = \" + str(tikrasApibreztinisIntegralas(a,b)))\n"
      ],
      "execution_count": null,
      "outputs": [
        {
          "output_type": "stream",
          "name": "stdout",
          "text": [
            "N1=10 integralas = 0.2850000000000001\n",
            "N2=1000 integralas = 0.33283350000000006\n",
            "Neapibrėžtinis --> x**3/3\n",
            "Tikras integralas = 0.333333333333333\n"
          ]
        }
      ]
    },
    {
      "cell_type": "markdown",
      "metadata": {
        "id": "QqRl6iaXddEY"
      },
      "source": [
        "Monte-Carlo metodas:"
      ]
    },
    {
      "cell_type": "code",
      "metadata": {
        "id": "8uvYEuY6doJa",
        "colab": {
          "base_uri": "https://localhost:8080/"
        },
        "outputId": "394a0176-cd52-49b9-ce13-36db7d733e5b"
      },
      "source": [
        "import random\n",
        "\n",
        "def f(x):\n",
        "  return x*x\n",
        "\n",
        "def If(x):\n",
        "  return x*x*x/3\n",
        "\n",
        "\n",
        "def integralas_pagal_MC(a,b,N,funkcija):\n",
        "  # integralui apskaičiuoti reikia žinoti funkcijos minimumą ir maksimą:\n",
        "  # jiems įvertinti reikia atskirų strategijų: mes tarsime, kad funkcija\n",
        "  # yra neneigiama ir monotoninė :)\n",
        "  pokytisPagalY = abs(f(a)-f(b))\n",
        "  maxY = max(f(a),f(b))\n",
        "  minY = min(f(a),f(b))\n",
        "  pokytisPagalX = b - a\n",
        "  pataiko = 0.0\n",
        "  for i in range(N):\n",
        "    x  = random.uniform(a,b)\n",
        "    yr = random.uniform(minY,maxY)\n",
        "    ytikras = f(x)\n",
        "    if ytikras >= yr:\n",
        "      pataiko += 1\n",
        "  return pokytisPagalX * pokytisPagalY * pataiko / N\n",
        "\n",
        "a = 0.0\n",
        "b = 1.0\n",
        "N1 = 10\n",
        "N2 = 1000000\n",
        "\n",
        "\n",
        "print(\"N1=\" + str(N1) + \" integralas = \" + str(integralas_pagal_MC(a,b,N1, f)))\n",
        "print(\"N2=\" + str(N2) + \" integralas = \" + str(integralas_pagal_MC(a,b,N2, f)))\n",
        "print( \" integralas = \" + str(If(b)-If(a)))\n"
      ],
      "execution_count": null,
      "outputs": [
        {
          "output_type": "stream",
          "name": "stdout",
          "text": [
            "N1=10 integralas = 0.3\n",
            "N2=1000000 integralas = 0.333526\n",
            " integralas = 0.3333333333333333\n"
          ]
        }
      ]
    },
    {
      "cell_type": "markdown",
      "metadata": {
        "id": "0eqbI68QjEed"
      },
      "source": [
        "**Pavyzdys**: paskaičiuokime rutulio su spinduliu $R$ tūrį naudodami  MC metodą. Palyginkime su tiksliosios formulės rezultatais\n",
        "\n"
      ]
    },
    {
      "cell_type": "code",
      "metadata": {
        "id": "_WA8Vxn94Xrw",
        "colab": {
          "base_uri": "https://localhost:8080/"
        },
        "outputId": "22509074-ace1-4c96-ba05-df15b0120cfd"
      },
      "source": [
        "import random\n",
        "import math\n",
        "\n",
        "\n",
        "def rutulio_turis_pagal_MC(R,N):\n",
        "  pataiko = 0.0\n",
        "  for i in range(N):\n",
        "    x  = random.uniform(-R,R)\n",
        "    y  = random.uniform(-R,R)\n",
        "    z  = random.uniform(-R,R)\n",
        "    if x*x+y*y+z*z <= R*R:\n",
        "      pataiko += 1\n",
        "  return pataiko * 8*R*R*R / N\n",
        "\n",
        "\n",
        "def rutuliu_skirtumu_turis_pagal_MC(x1,y1,z1,R1, x2,y2,z2,R2, N):\n",
        "  pataiko = 0.0\n",
        "  for i in range(N):\n",
        "    x  = random.uniform(-R1,R1)\n",
        "    y  = random.uniform(-R1,R1)\n",
        "    z  = random.uniform(-R1,R1)\n",
        "    if ((x-x1)*(x-x1)+(y-y1)*(y-y1)+(z-z1)*(z-z1) <= R1*R1) and ((x-x2)*(x-x2)+(y-y2)*(y-y2)+(z-z2)*(z-z2) >= R2*R2):\n",
        "      pataiko += 1\n",
        "  return pataiko * 8*R1*R1*R1 / N\n",
        "\n",
        "a = 0.0\n",
        "b = 2.0\n",
        "N1 = 10\n",
        "N2 = 10000\n",
        "R1 = 1\n",
        "V1 = (4*math.pi*R1*R1*R1)/3\n",
        "\n",
        "\n",
        "\n",
        "print(\"N1=\" + str(N1) + \" turis = \" + str(rutulio_turis_pagal_MC(R1,N1)))\n",
        "print(\"N2=\" + str(N2) + \" turis = \" + str(rutulio_turis_pagal_MC(R1,N2)))\n",
        "print( \" turis = \" + str(V1))\n",
        "R2 = 0.5\n",
        "x1 = y1 = z1 = 0\n",
        "x2 = 1\n",
        "y2 = z2 = 0\n",
        "\n",
        "print(\"N1=\" + str(N1) + \" skirtumų turis = \" + str(rutuliu_skirtumu_turis_pagal_MC(x1,y1,z1,R1, x2,y2,z2,R2, N1)))\n",
        "print(\"N2=\" + str(N2) + \" skirtumų turis = \" + str(rutuliu_skirtumu_turis_pagal_MC(x1,y1,z1,R1, x2,y2,z2,R2, N2)))\n",
        "#print( \" skirtumų turis = \" + str(V2))\n"
      ],
      "execution_count": null,
      "outputs": [
        {
          "output_type": "stream",
          "name": "stdout",
          "text": [
            "N1=10 turis = 2.4\n",
            "N2=10000 turis = 4.224\n",
            " turis = 4.1887902047863905\n",
            "N1=10 skirtumų turis = 4.8\n",
            "N2=10000 skirtumų turis = 3.9592\n"
          ]
        }
      ]
    },
    {
      "cell_type": "markdown",
      "metadata": {
        "id": "zIh7DBNQk7l7"
      },
      "source": [
        "Lab. darbo variantai:\n",
        "(Variantas:  mif-4-skaitmenys % 12 + 1)\n",
        "\n",
        "***vapa0245*** -> 245 % 12 + 1 -> 6\n",
        "\n",
        "\n",
        "1.   $\\int_0^1{\\sin(\\pi x+\\alpha)}dx$, $\\alpha \\in \\{0, 0.01,0.02, \\cdots, 1.0\\}$\n",
        "2.      $\\int_0^1{\\cos(\\pi x+\\alpha)}dx$, $\\alpha \\in \\{0, 0.01,0.02, \\cdots, 1.0\\}$\n",
        "3.    $\\int_0^1{\\sin(\\alpha x+\\pi)}dx$, $\\alpha \\in \\{0, 0.01,0.02, \\cdots, 1.0\\}$\n",
        "4.    $\\int_0^1{\\cos(\\alpha x+\\pi)}dx$, $\\alpha \\in \\{0, 0.01,0.02, \\cdots, 1.0\\}$\n",
        "5.    $\\int_0^1{\\exp(\\alpha x+1)}dx$, $\\alpha \\in \\{0, 0.01,0.02, \\cdots, 1.0\\}$\n",
        "1.    $\\int_0^1{\\exp(-\\alpha x+1)}dx$, $\\alpha \\in \\{0, 0.01,0.02, \\cdots, 1.0\\}$\n",
        "1.    $\\int_0^1{\\exp(-2 \\alpha x+1)}dx$, $\\alpha \\in \\{0, 0.01,0.02, \\cdots, 1.0\\}$\n",
        "1.    $\\int_0^1{\\sin(-\\alpha x+\\frac{\\pi}{3})}dx$, $\\alpha \\in \\{0, 0.01,0.02, \\cdots, 1.0\\}$\n",
        "1.    $\\int_0^1{\\cos(-\\alpha x+\\frac{\\pi}{6})}dx$, $\\alpha \\in \\{0, 0.01,0.02, \\cdots, 1.0\\}$\n",
        "1.    $\\int_0^1{\\sin^2(-\\alpha x)}dx$, $\\alpha \\in \\{0, 0.01,0.02, \\cdots, 1.0\\}$\n",
        "1.    $\\int_0^1{\\cos^2(-\\alpha x)}dx$, $\\alpha \\in \\{0, 0.01,0.02, \\cdots, 1.0\\}$\n",
        "1.    $\\int_0^1{\\sin(-\\alpha x)}\\cos x dx$, $\\alpha \\in \\{0, 0.01,0.02, \\cdots, 1.0\\}$"
      ]
    },
    {
      "cell_type": "markdown",
      "metadata": {
        "id": "srAX0Zebn_bW"
      },
      "source": []
    }
  ]
}