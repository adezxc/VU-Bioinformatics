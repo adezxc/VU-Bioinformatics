{
  "nbformat": 4,
  "nbformat_minor": 0,
  "metadata": {
    "colab": {
      "provenance": [],
      "include_colab_link": true
    },
    "kernelspec": {
      "name": "python3",
      "display_name": "Python 3"
    }
  },
  "cells": [
    {
      "cell_type": "markdown",
      "metadata": {
        "id": "view-in-github",
        "colab_type": "text"
      },
      "source": [
        "<a href=\"https://colab.research.google.com/github/adezxc/VU-Bioinformatics/blob/master/semester4/LinAlg.ipynb\" target=\"_parent\"><img src=\"https://colab.research.google.com/assets/colab-badge.svg\" alt=\"Open In Colab\"/></a>"
      ]
    },
    {
      "cell_type": "code",
      "metadata": {
        "id": "Dam6na4Kn8tW"
      },
      "source": [
        "import numpy as np\n",
        "import matplotlib.pyplot as plt"
      ],
      "execution_count": null,
      "outputs": []
    },
    {
      "cell_type": "markdown",
      "metadata": {
        "id": "gAE8BJnnoMJm"
      },
      "source": [
        "Numpy modulis palaiko daugiamačius masysvus („matricas“). Matricos šiandieniniame moksle yra vienas iš pagrindinių darbinių arkliukų.  Numpy aplinkoje matricas galima sukurti įvairiais būdais. Vienas dažniausių būdų: panadouti np.array(...)  konstruktorių su sąrašiniu parametru. Po to, jeigu reikia, galima pritaikyti reshape() metodą, kuris duos mums tinkamų išmatavimų matricą (vektorių).  "
      ]
    },
    {
      "cell_type": "code",
      "metadata": {
        "id": "San42v3TpGcu",
        "colab": {
          "base_uri": "https://localhost:8080/"
        },
        "outputId": "f70b0186-1b79-4b08-9de9-38618d195a15"
      },
      "source": [
        "m1 = np.array([1,2,4,5])\n",
        "print(type(m1))\n",
        "print(m1.shape)\n",
        "print(m1)\n",
        "m1=m1.reshape(2,2)\n",
        "print(m1)"
      ],
      "execution_count": null,
      "outputs": [
        {
          "output_type": "stream",
          "name": "stdout",
          "text": [
            "<class 'numpy.ndarray'>\n",
            "(4,)\n",
            "[1 2 4 5]\n",
            "[[1 2]\n",
            " [4 5]]\n"
          ]
        }
      ]
    },
    {
      "cell_type": "markdown",
      "metadata": {
        "id": "56EAfwfnx4nA"
      },
      "source": [
        "**Pratimas paskaitos metu. Sukurkite sąrašą iš 9 elementų,o po to - matricą $3 \\times 3$.**\n",
        "\n",
        "> Blokas su įtrauka\n",
        "\n"
      ]
    },
    {
      "cell_type": "code",
      "source": [
        "arr = np.arange(9)\n",
        "print(arr)\n",
        "arr = arr.reshape(3,3)\n",
        "print(arr)"
      ],
      "metadata": {
        "colab": {
          "base_uri": "https://localhost:8080/"
        },
        "id": "y-0mhLqCemkC",
        "outputId": "ebb32cf4-e6b5-4d1d-cfca-5a01f3e3e6c9"
      },
      "execution_count": null,
      "outputs": [
        {
          "output_type": "stream",
          "name": "stdout",
          "text": [
            "[0 1 2 3 4 5 6 7 8]\n",
            "[[0 1 2]\n",
            " [3 4 5]\n",
            " [6 7 8]]\n"
          ]
        }
      ]
    },
    {
      "cell_type": "markdown",
      "metadata": {
        "id": "Gx_F__HzzKUt"
      },
      "source": [
        "Kai turime  masyvą, galime jį panaudoti atliekant veiksmus su **skaliarais**:"
      ]
    },
    {
      "cell_type": "code",
      "metadata": {
        "id": "rNe8Eaw4zduG",
        "colab": {
          "base_uri": "https://localhost:8080/"
        },
        "outputId": "5e41e361-334f-4073-8ae4-c81888d9b58f"
      },
      "source": [
        "a=np.array([1,2,3,4])\n",
        "a=a.reshape(2,2)\n",
        "print(2*a)\n",
        "print(2+a)"
      ],
      "execution_count": null,
      "outputs": [
        {
          "output_type": "stream",
          "name": "stdout",
          "text": [
            "[[2 4]\n",
            " [6 8]]\n",
            "[[3 4]\n",
            " [5 6]]\n"
          ]
        }
      ]
    },
    {
      "cell_type": "markdown",
      "metadata": {
        "id": "14Xe88qN0dz1"
      },
      "source": [
        "Masyvus galima sudėti:"
      ]
    },
    {
      "cell_type": "code",
      "metadata": {
        "id": "d76K7mOOyRSl",
        "colab": {
          "base_uri": "https://localhost:8080/"
        },
        "outputId": "3f5a55d7-968a-4466-b470-d73b5b73976e"
      },
      "source": [
        "b=np.array([10,20,30,4.0])\n",
        "b=b.reshape(2,2)\n",
        "c=a+b\n",
        "print(c)"
      ],
      "execution_count": null,
      "outputs": [
        {
          "output_type": "stream",
          "name": "stdout",
          "text": [
            "[[11. 22.]\n",
            " [33.  8.]]\n"
          ]
        }
      ]
    },
    {
      "cell_type": "markdown",
      "metadata": {
        "id": "I6xybXk41ZQY"
      },
      "source": [
        "Masyvus galima sudauginti:"
      ]
    },
    {
      "cell_type": "code",
      "metadata": {
        "id": "XqSZEhKz1hUL",
        "colab": {
          "base_uri": "https://localhost:8080/",
          "height": 218
        },
        "outputId": "e7a28d37-18c4-46d2-d5b5-68d3dcaf649b"
      },
      "source": [
        "mas1=np.array([x*0.1 for x in range(9)])\n",
        "mas2=np.linspace(1,2,9)\n",
        "mas1=mas1.reshape(3,3)\n",
        "mas2=mas2.reshape(3,3)\n",
        "print(mas1)\n",
        "print(mas2)\n",
        "mas3 = mas1 @ mas2\n",
        "print(mas3)\n",
        "##########################\n",
        "v2=np.array([1,1,2])\n",
        "v2=v2.reshape(3,1)\n",
        "print(mas2 @ v2)"
      ],
      "execution_count": null,
      "outputs": [
        {
          "output_type": "stream",
          "text": [
            "[[0.  0.1 0.2]\n",
            " [0.3 0.4 0.5]\n",
            " [0.6 0.7 0.8]]\n",
            "[[1.    1.125 1.25 ]\n",
            " [1.375 1.5   1.625]\n",
            " [1.75  1.875 2.   ]]\n",
            "[[0.4875 0.525  0.5625]\n",
            " [1.725  1.875  2.025 ]\n",
            " [2.9625 3.225  3.4875]]\n",
            "[[4.625]\n",
            " [6.125]\n",
            " [7.625]]\n"
          ],
          "name": "stdout"
        }
      ]
    },
    {
      "cell_type": "markdown",
      "metadata": {
        "id": "kz46GPPm2_mG"
      },
      "source": [
        "**Kronekerio dviеjų matricų sandauga**\n",
        "Žr. pvz.: https://en.wikipedia.org/wiki/Kronecker_product#Examples\n",
        "Nadojame kron(...) funkciją:"
      ]
    },
    {
      "cell_type": "code",
      "metadata": {
        "id": "CmPdusRG3aLo",
        "colab": {
          "base_uri": "https://localhost:8080/",
          "height": 252
        },
        "outputId": "8ddc206b-77be-4f3f-ea24-64bc9ba6c160"
      },
      "source": [
        "mas3=np.array([x for x in range(4)])\n",
        "mas4=np.linspace(1,2,9)\n",
        "mas3=mas3.reshape(2,2)\n",
        "mas4=mas2.reshape(3,3)\n",
        "print(mas3)\n",
        "print(mas4)\n",
        "mas5 = np.kron(mas1,mas2)\n",
        "print(mas5)"
      ],
      "execution_count": null,
      "outputs": [
        {
          "output_type": "stream",
          "text": [
            "[[0 1]\n",
            " [2 3]]\n",
            "[[1.    1.125 1.25 ]\n",
            " [1.375 1.5   1.625]\n",
            " [1.75  1.875 2.   ]]\n",
            "[[0.     0.     0.     0.1    0.1125 0.125  0.2    0.225  0.25  ]\n",
            " [0.     0.     0.     0.1375 0.15   0.1625 0.275  0.3    0.325 ]\n",
            " [0.     0.     0.     0.175  0.1875 0.2    0.35   0.375  0.4   ]\n",
            " [0.3    0.3375 0.375  0.4    0.45   0.5    0.5    0.5625 0.625 ]\n",
            " [0.4125 0.45   0.4875 0.55   0.6    0.65   0.6875 0.75   0.8125]\n",
            " [0.525  0.5625 0.6    0.7    0.75   0.8    0.875  0.9375 1.    ]\n",
            " [0.6    0.675  0.75   0.7    0.7875 0.875  0.8    0.9    1.    ]\n",
            " [0.825  0.9    0.975  0.9625 1.05   1.1375 1.1    1.2    1.3   ]\n",
            " [1.05   1.125  1.2    1.225  1.3125 1.4    1.4    1.5    1.6   ]]\n"
          ],
          "name": "stdout"
        }
      ]
    },
    {
      "cell_type": "markdown",
      "metadata": {
        "id": "Z9jJ33XX5KP2"
      },
      "source": [
        "**Numpy linalg submodulis**\n",
        "\n",
        "Čia daug labai naudingų skaičiavimo moksle funkcijų iš tiesinės algebros.\n",
        "Pradžiai -- matricos laipsnis."
      ]
    },
    {
      "cell_type": "code",
      "metadata": {
        "id": "4Lyzv5c86HW6",
        "colab": {
          "base_uri": "https://localhost:8080/"
        },
        "outputId": "5de50277-2599-4e55-e0b7-9e4050d41e8a"
      },
      "source": [
        "mas6=np.array([1,2,0,3 ])\n",
        "mas6=mas6.reshape(2,2)\n",
        "for i in range(0,4):\n",
        "   print(np.linalg.matrix_power(mas6, i))\n",
        "# exp(A) <- I + A + A**2/2 + ...\n",
        "# exp(x) <- 1 + x + x**2/2 + x**3/3! + x**4/4! + o(x**4)\n",
        "# sin(x) <-"
      ],
      "execution_count": null,
      "outputs": [
        {
          "output_type": "stream",
          "name": "stdout",
          "text": [
            "[[1 0]\n",
            " [0 1]]\n",
            "[[1 2]\n",
            " [0 3]]\n",
            "[[1 8]\n",
            " [0 9]]\n",
            "[[ 1 26]\n",
            " [ 0 27]]\n"
          ]
        }
      ]
    },
    {
      "cell_type": "markdown",
      "metadata": {
        "id": "I95NuCoTGFYw"
      },
      "source": [
        "**Determinantas**\n",
        "\n",
        "Naudojame *linalg.det()*:\n"
      ]
    },
    {
      "cell_type": "code",
      "metadata": {
        "id": "eA5DrXCwGbWt",
        "colab": {
          "base_uri": "https://localhost:8080/",
          "height": 84
        },
        "outputId": "4c280888-d78f-42e8-9586-7713a276c492"
      },
      "source": [
        "mas7=np.array([1,2,0,3,4,0,5,6,7 ])\n",
        "mas7=mas7.reshape(3,3)\n",
        "print(mas7)\n",
        "print(np.linalg.det(mas7))"
      ],
      "execution_count": null,
      "outputs": [
        {
          "output_type": "stream",
          "text": [
            "[[1 2 0]\n",
            " [3 4 0]\n",
            " [5 6 7]]\n",
            "-14.000000000000004\n"
          ],
          "name": "stdout"
        }
      ]
    },
    {
      "cell_type": "markdown",
      "metadata": {
        "id": "oMsXfQcGIQ64"
      },
      "source": []
    },
    {
      "cell_type": "markdown",
      "metadata": {
        "id": "cu1XPXh5JDat"
      },
      "source": [
        "**Matricos ar vektoriaus norma**\n",
        "\n",
        "Naudojame *linalg.norm()*:"
      ]
    },
    {
      "cell_type": "code",
      "metadata": {
        "id": "b9CprFRZJOhK",
        "colab": {
          "base_uri": "https://localhost:8080/"
        },
        "outputId": "ebb9f16f-0a81-46a2-b152-012478c1f80b"
      },
      "source": [
        "v3=np.array([1,2,1,3])\n",
        "print(np.linalg.norm(v3))\n",
        "#Tai vadinamoji L2 norma:\n",
        "print(np.sqrt(sum(v3*v3)))\n",
        "mas8=np.array([1,2,3,4,5,6])\n",
        "mas8=mas8.reshape(2,3)\n",
        "print(np.linalg.norm(mas8))"
      ],
      "execution_count": null,
      "outputs": [
        {
          "output_type": "stream",
          "name": "stdout",
          "text": [
            "3.872983346207417\n",
            "3.872983346207417\n",
            "9.539392014169456\n"
          ]
        }
      ]
    },
    {
      "cell_type": "markdown",
      "metadata": {
        "id": "AOvQG3vuLENy"
      },
      "source": [
        "**Tiesinių lygčių sistemų sprendimas**\n",
        "\n",
        "Eina kalba apie sistemą $Ax=b$, kur $A$ - neišsigimusi ($\\det A \\neq 0$), o $b$ turi tūrėti tiek pat eilučių kiek turi A. Paprastai mes pripratę prie situacijos, kai $b$ - stulpelis vektorius:\n",
        "\n"
      ]
    },
    {
      "cell_type": "code",
      "metadata": {
        "id": "gs5YPth9LxBB",
        "colab": {
          "base_uri": "https://localhost:8080/"
        },
        "outputId": "4f245b4c-ec63-432a-c497-8156c4d454ac"
      },
      "source": [
        "masA=np.array([0,2,3,4,5,6,7,8,9])\n",
        "masA=masA.reshape(3,3)\n",
        "vecb=np.array([6,15,24])\n",
        "vecb=vecb.reshape(3,1)\n",
        "x=np.linalg.solve(masA, vecb)\n",
        "print(x)\n",
        "###########################\n"
      ],
      "execution_count": null,
      "outputs": [
        {
          "output_type": "stream",
          "name": "stdout",
          "text": [
            "[[0.]\n",
            " [3.]\n",
            " [0.]]\n"
          ]
        }
      ]
    },
    {
      "cell_type": "code",
      "source": [
        "arr = np.array([[2,3,1],[1,-1,1],[1,2,3]])\n",
        "b = np.array([6,1,6])\n",
        "y = np.linalg.solve(arr, b)\n",
        "print(y)"
      ],
      "metadata": {
        "colab": {
          "base_uri": "https://localhost:8080/"
        },
        "id": "Xgl3nY96KwT5",
        "outputId": "8d1eb771-f579-41a7-8021-930a70e53ea8"
      },
      "execution_count": null,
      "outputs": [
        {
          "output_type": "stream",
          "name": "stdout",
          "text": [
            "[1. 1. 1.]\n"
          ]
        }
      ]
    },
    {
      "cell_type": "code",
      "source": [
        "E = np.array([[1,0,0], [0,1,0], [0,0,1]])\n",
        "y = np.linalg.solve(arr, E)\n",
        "print(y)\n",
        "print(y @ arr)"
      ],
      "metadata": {
        "colab": {
          "base_uri": "https://localhost:8080/"
        },
        "id": "RTDcopt3MCgi",
        "outputId": "7fbb2edf-a0e0-4931-c329-4c2157d7e4a1"
      },
      "execution_count": null,
      "outputs": [
        {
          "output_type": "stream",
          "name": "stdout",
          "text": [
            "[[ 0.38461538  0.53846154 -0.30769231]\n",
            " [ 0.15384615 -0.38461538  0.07692308]\n",
            " [-0.23076923  0.07692308  0.38461538]]\n",
            "[[1.00000000e+00 0.00000000e+00 0.00000000e+00]\n",
            " [0.00000000e+00 1.00000000e+00 0.00000000e+00]\n",
            " [5.55111512e-17 0.00000000e+00 1.00000000e+00]]\n"
          ]
        }
      ]
    },
    {
      "cell_type": "markdown",
      "metadata": {
        "id": "zsaisSLkObEA"
      },
      "source": [
        "**Pratimas paskaitos metu**\n",
        "\n",
        "Tegul vietoje $b$ bus vienetinė matrica $E$. Kas bus $x$, jeigu spręsime sistemą $Ax=E$ ?  "
      ]
    },
    {
      "cell_type": "code",
      "metadata": {
        "id": "kNUnwsc4O7zB",
        "colab": {
          "base_uri": "https://localhost:8080/"
        },
        "outputId": "11a70b47-3f63-42aa-bfa5-fb022aa13404"
      },
      "source": [
        "masB=np.eye(3)\n",
        "print(masB)\n",
        "####### Jūsų kodas čia #####\n",
        "x1 = np.linalg.solve(masA, masB)\n",
        "print(x1)\n",
        "test = x1 @ masA\n",
        "print(test)"
      ],
      "execution_count": null,
      "outputs": [
        {
          "output_type": "stream",
          "name": "stdout",
          "text": [
            "[[1. 0. 0.]\n",
            " [0. 1. 0.]\n",
            " [0. 0. 1.]]\n",
            "[[-1.          2.         -1.        ]\n",
            " [ 2.         -7.          4.        ]\n",
            " [-1.          4.66666667 -2.66666667]]\n",
            "[[ 1.00000000e+00 -8.88178420e-16 -2.10942375e-15]\n",
            " [-1.33226763e-15  1.00000000e+00  1.33226763e-15]\n",
            " [ 8.88178420e-16  0.00000000e+00  1.00000000e+00]]\n"
          ]
        }
      ]
    },
    {
      "cell_type": "markdown",
      "metadata": {
        "id": "XYtj8jOlQFgL"
      },
      "source": [
        "**Atvirkštinė matrica**\n",
        "\n",
        "Tam naudojame *np.linalg.inv()*\n",
        "\n",
        "**Pseudoatvirkštinė**\n",
        "\n",
        "Plačiau žiūrėkite: https://en.wikipedia.org/wiki/Moore%E2%80%93Penrose_inverse\n",
        "\n",
        "Jeigu matrica $A$ yra $m \\times n$ matrica, tai jos pseudoatvirkštinė $A^{+}$ yra  $n \\times m$ matrica, kuri tenkina keturias sąlygas:\n",
        "\n",
        "*   $A^{+}AA^{+}=A$\n",
        "*   $AA^{+}A=A^{+}$\n",
        "*   $(AA^{+})^{T}=AA^{+}$\n",
        "*   $(A^{+}A)^{T}=A^{+}A$\n",
        "\n",
        "**Pratimas paskaitos metu**\n",
        "\n",
        "Sukurkite $3\\times4$ matricą apskaičiuokite jos pseudoatvirkštinę (*np.linalg.pinv()*), patikrinkite nurodytas savybes."
      ]
    },
    {
      "cell_type": "code",
      "source": [
        "from numpy.core.fromnumeric import transpose\n",
        "mat4 = np.array(range(12))\n",
        "mat4new = mat4.reshape(3, 4)\n",
        "\n",
        "mat4inv = np.linalg.pinv(mat4new)\n",
        "print(mat4inv)\n",
        "arr = np.array([[1,1,1,1],[2,2,2,2],[3,3,3,3]])\n",
        "parr = np.linalg.pinv(arr)\n",
        "\n",
        "print( np.transpose(parr @ arr) - ( parr @ arr))\n"
      ],
      "metadata": {
        "colab": {
          "base_uri": "https://localhost:8080/"
        },
        "id": "1XS_HjEvl3G7",
        "outputId": "069418bd-63cc-4467-a6f7-c49d0724948d"
      },
      "execution_count": null,
      "outputs": [
        {
          "output_type": "stream",
          "name": "stdout",
          "text": [
            "[[-0.3375     -0.1         0.1375    ]\n",
            " [-0.13333333 -0.03333333  0.06666667]\n",
            " [ 0.07083333  0.03333333 -0.00416667]\n",
            " [ 0.275       0.1        -0.075     ]]\n",
            "[[0. 0. 0. 0.]\n",
            " [0. 0. 0. 0.]\n",
            " [0. 0. 0. 0.]\n",
            " [0. 0. 0. 0.]]\n"
          ]
        }
      ]
    },
    {
      "cell_type": "markdown",
      "metadata": {
        "id": "8y2a6gX4WGxk"
      },
      "source": [
        "**Lab. darbas 1, 1 dalis**\n",
        "\n",
        "Jūsų tikslas šiame pratime -- euristiškai patirinėti tam tikros matricų klasės normų ryšius su joms pseudoatvirkštinių matricų normomis.\n",
        "\n",
        "Tam tikslui generuokite kokius 10000 kartų atsitiktinę  $3 \\times 6$ matricą, kurios elementai yra atsitiktiniai skaičiai iš intervalo $[-1,1]$. Po to skaičiuokite jos normą, jai pseudoatvirkštinę ir jos  normą. Galų gale nubraižykite  naudodami matplotlib abiejų matricų normų histogramas. Ar matosi koks nors dėsningumas (priklasomybė) tarp abiejų histogramų?\n",
        "\n",
        "*Pastaba.* Žr. pvz. https://pythonspot.com/matplotlib-histogram/ , tam, kad prismintume kaip kurti histogramas..."
      ]
    },
    {
      "cell_type": "markdown",
      "metadata": {
        "id": "q68R5mqqZUEn"
      },
      "source": []
    }
  ]
}