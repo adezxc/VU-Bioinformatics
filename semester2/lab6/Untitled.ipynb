{
 "cells": [
  {
   "cell_type": "code",
   "execution_count": 56,
   "id": "a852eb17",
   "metadata": {},
   "outputs": [
    {
     "name": "stdout",
     "output_type": "stream",
     "text": [
      "          0         1         2         3         4         5         6  \\\n",
      "0 -0.000000  0.392406  0.629151  0.334892  0.363543  0.662858  0.349674   \n",
      "1  0.392406 -0.000000  0.832909  0.418670  0.489872  0.962276  0.461594   \n",
      "2  0.629151  0.832909 -0.000000  0.796005  0.658361  0.301668  0.586192   \n",
      "3  0.334892  0.418670  0.796005 -0.000000  0.413687  0.826214  0.416823   \n",
      "4  0.363543  0.489872  0.658361  0.413687 -0.000000  0.629159  0.321267   \n",
      "5  0.662858  0.962276  0.301668  0.826214  0.629159 -0.000000  0.632589   \n",
      "6  0.349674  0.461594  0.586192  0.416823  0.321267  0.632589 -0.000000   \n",
      "7  1.653149  1.486220  1.955603  1.548350  1.505069  1.962259  1.461018   \n",
      "8  0.853233  0.874476  1.413106  0.764099  0.867917  1.370413  0.892241   \n",
      "\n",
      "          7         8  \n",
      "0  1.653149  0.853233  \n",
      "1  1.486220  0.874476  \n",
      "2  1.955603  1.413106  \n",
      "3  1.548350  0.764099  \n",
      "4  1.505069  0.867917  \n",
      "5  1.962259  1.370413  \n",
      "6  1.461018  0.892241  \n",
      "7 -0.000000  1.408056  \n",
      "8  1.408056 -0.000000  \n"
     ]
    }
   ],
   "source": [
    "# Read sequences from sequences.fasta\n",
    "\n",
    "import pandas as pd\n",
    "import numpy as np\n",
    "from Bio import SeqIO\n",
    "from Bio import pairwise2\n",
    "\n",
    "# Read sequences from sequences.fasta\n",
    "sequences = []\n",
    "for record in SeqIO.parse(\"sequences.fasta\", \"fasta\"):\n",
    "    sequences.append(record.seq)\n",
    "    \n",
    "def calculate_distance(seqs):\n",
    "    table = np.zeros((len(seqs), len(seqs)))\n",
    "    for i, seq1 in enumerate(seqs):\n",
    "        for j, seq2 in enumerate(seqs):\n",
    "            real_score = pairwise2.align.globalxx(seq1, seq2, score_only=True)\n",
    "            shuffled_seq1 = ''.join(np.random.choice(list(seq1), len(seq1)))\n",
    "            shuffled_seq2 = ''.join(np.random.choice(list(seq2), len(seq2)))\n",
    "            shuf_score = pairwise2.align.globalxx(shuffled_seq1, shuffled_seq2, score_only=True)\n",
    "            real_scoreii = pairwise2.align.globalxx(seq1, seq1, score_only=True)\n",
    "            real_scorejj = pairwise2.align.globalxx(seq2, seq2, score_only=True)\n",
    "            effect_score = -(np.log((real_score - shuf_score)/((1/2)*(real_scoreii + real_scorejj) - shuf_score)))\n",
    "            table[j][i] = effect_score\n",
    "            table[i][j] = effect_score\n",
    "    return table\n",
    "    \n",
    "table = calculate_distance(sequences)\n",
    "print(pd.DataFrame(table))\n",
    "\n",
    "    "
   ]
  },
  {
   "cell_type": "code",
   "execution_count": 26,
   "id": "983d736e",
   "metadata": {},
   "outputs": [],
   "source": [
    "table = [\n",
    "    [10],\n",
    "    [2, 10],\n",
    "    [10, 6, 10],\n",
    "    [8, 10, 8, 10],\n",
    "    [8, 10, 8, 10, 4]\n",
    "]"
   ]
  },
  {
   "cell_type": "code",
   "execution_count": 24,
   "id": "7264a2da",
   "metadata": {},
   "outputs": [],
   "source": [
    "table = [\n",
    "    [0.397327],\n",
    "    [0.650773, 0.850239],\n",
    "    [0.337268, 0.420779, 0.812019],\n",
    "    [0.363543, 0.487295, 0.668837, 0.409534],\n",
    "    [0.683444, 0.898138, 0.289359, 0.837510, 0.638963],\n",
    "]"
   ]
  },
  {
   "cell_type": "code",
   "execution_count": 27,
   "id": "905b1dc9",
   "metadata": {},
   "outputs": [
    {
     "name": "stdout",
     "output_type": "stream",
     "text": [
      "['A', 'B', 'C', 'D', 'E', 'F'] 0 1\n",
      "['(A,B)', 'C', 'D', 'E', 'F'] 3 3\n",
      "['(A,B)', 'C', 'D', 'F'] 0 1\n",
      "['((A,B),C)', 'D', 'F'] 0 1\n"
     ]
    },
    {
     "ename": "IndexError",
     "evalue": "list index out of range",
     "output_type": "error",
     "traceback": [
      "\u001b[0;31m---------------------------------------------------------------------------\u001b[0m",
      "\u001b[0;31mIndexError\u001b[0m                                Traceback (most recent call last)",
      "Cell \u001b[0;32mIn [27], line 59\u001b[0m\n\u001b[1;32m     56\u001b[0m     \u001b[39mreturn\u001b[39;00m labels\n\u001b[1;32m     58\u001b[0m labels \u001b[39m=\u001b[39m alpha_labels(\u001b[39m\"\u001b[39m\u001b[39mA\u001b[39m\u001b[39m\"\u001b[39m, \u001b[39m\"\u001b[39m\u001b[39mF\u001b[39m\u001b[39m\"\u001b[39m)\n\u001b[0;32m---> 59\u001b[0m UPGMA(table, labels)\n",
      "Cell \u001b[0;32mIn [27], line 45\u001b[0m, in \u001b[0;36mUPGMA\u001b[0;34m(table, labels)\u001b[0m\n\u001b[1;32m     42\u001b[0m \u001b[39mwhile\u001b[39;00m \u001b[39mlen\u001b[39m(labels) \u001b[39m>\u001b[39m \u001b[39m1\u001b[39m:\n\u001b[1;32m     43\u001b[0m     x, y \u001b[39m=\u001b[39m lowest_cell(table)\n\u001b[0;32m---> 45\u001b[0m     join_table(table, x, y)\n\u001b[1;32m     47\u001b[0m     join_labels(labels, x, y)\n\u001b[1;32m     49\u001b[0m \u001b[39mreturn\u001b[39;00m labels[\u001b[39m0\u001b[39m]\n",
      "Cell \u001b[0;32mIn [27], line 36\u001b[0m, in \u001b[0;36mjoin_table\u001b[0;34m(table, a, b)\u001b[0m\n\u001b[1;32m     33\u001b[0m     table[i][a] \u001b[39m=\u001b[39m (table[i][a]\u001b[39m+\u001b[39mtable[b][i])\u001b[39m/\u001b[39m\u001b[39m2\u001b[39m\n\u001b[1;32m     35\u001b[0m \u001b[39mfor\u001b[39;00m i \u001b[39min\u001b[39;00m \u001b[39mrange\u001b[39m(b\u001b[39m+\u001b[39m\u001b[39m1\u001b[39m, \u001b[39mlen\u001b[39m(table)):\n\u001b[0;32m---> 36\u001b[0m     table[i][a] \u001b[39m=\u001b[39m (table[i][a]\u001b[39m+\u001b[39mtable[i][b])\u001b[39m/\u001b[39m\u001b[39m2\u001b[39m\n\u001b[1;32m     37\u001b[0m     \u001b[39mdel\u001b[39;00m table[i][b]\n\u001b[1;32m     39\u001b[0m \u001b[39mdel\u001b[39;00m table[b]\n",
      "\u001b[0;31mIndexError\u001b[0m: list index out of range"
     ]
    }
   ],
   "source": [
    "def lowest_cell(table):\n",
    "    # Set default to infinity\n",
    "    min_cell = float(\"inf\")\n",
    "    x, y = -1, -1\n",
    "\n",
    "    for i in range(len(table)):\n",
    "        for j in range(len(table[i])):\n",
    "            if table[i][j] < min_cell:\n",
    "                min_cell = table[i][j]\n",
    "                x, y = i, j\n",
    "\n",
    "    return x, y\n",
    "\n",
    "def join_labels(labels, a, b):\n",
    "    if b < a:\n",
    "        a, b = b, a\n",
    "    print(labels, a, b)\n",
    "    labels[a] = \"(\" + labels[a] + \",\" + labels[b] + \")\"\n",
    "\n",
    "    del labels[b]\n",
    "\n",
    "\n",
    "def join_table(table, a, b):\n",
    "    if b < a:\n",
    "        a, b = b, a\n",
    "\n",
    "    row = []\n",
    "    for i in range(0, a):\n",
    "        row.append((table[a][i] + table[b][i])/2)\n",
    "    table[a] = row\n",
    "    \n",
    "    for i in range(a+1, b):\n",
    "        table[i][a] = (table[i][a]+table[b][i])/2\n",
    "        \n",
    "    for i in range(b+1, len(table)):\n",
    "        table[i][a] = (table[i][a]+table[i][b])/2\n",
    "        del table[i][b]\n",
    "\n",
    "    del table[b]\n",
    "\n",
    "def UPGMA(table, labels):\n",
    "    while len(labels) > 1:\n",
    "        x, y = lowest_cell(table)\n",
    "\n",
    "        join_table(table, x, y)\n",
    "\n",
    "        join_labels(labels, x, y)\n",
    "\n",
    "    return labels[0]\n",
    "\n",
    "\n",
    "def alpha_labels(start, end):\n",
    "    labels = []\n",
    "    for i in range(ord(start), ord(end)+1):\n",
    "        labels.append(chr(i))\n",
    "    return labels\n",
    "\n",
    "labels = alpha_labels(\"A\", \"F\")\n",
    "UPGMA(table, labels)\n",
    "\n"
   ]
  }
 ],
 "metadata": {
  "kernelspec": {
   "display_name": "Python 3",
   "language": "python",
   "name": "python3"
  },
  "language_info": {
   "codemirror_mode": {
    "name": "ipython",
    "version": 3
   },
   "file_extension": ".py",
   "mimetype": "text/x-python",
   "name": "python",
   "nbconvert_exporter": "python",
   "pygments_lexer": "ipython3",
   "version": "3.10.9 (main, Dec 19 2022, 17:35:49) [GCC 12.2.0]"
  },
  "vscode": {
   "interpreter": {
    "hash": "767d51c1340bd893661ea55ea3124f6de3c7a262a8b4abca0554b478b1e2ff90"
   }
  }
 },
 "nbformat": 4,
 "nbformat_minor": 5
}
