{
 "cells": [
  {
   "cell_type": "code",
   "execution_count": 47,
   "id": "a852eb17",
   "metadata": {},
   "outputs": [
    {
     "name": "stdout",
     "output_type": "stream",
     "text": [
      "          0         1         2         3         4         5         6  \\\n",
      "0 -0.000000  0.397327  0.650773  0.337268  0.363543  0.683444  0.341303   \n",
      "1  0.397327 -0.000000  0.850239  0.420779  0.487295  0.898138  0.476572   \n",
      "2  0.650773  0.850239 -0.000000  0.812019  0.668837  0.289359  0.568574   \n",
      "3  0.337268  0.420779  0.812019 -0.000000  0.409534  0.837510  0.397591   \n",
      "4  0.363543  0.487295  0.668837  0.409534 -0.000000  0.638963  0.320495   \n",
      "5  0.683444  0.898138  0.289359  0.837510  0.638963 -0.000000  0.616971   \n",
      "6  0.341303  0.476572  0.568574  0.397591  0.320495  0.616971 -0.000000   \n",
      "7  1.535189  1.397063  1.917562  1.492517  1.570838  1.886856  1.495028   \n",
      "8  0.853233  0.866232  1.433169  0.746572  0.919316  1.370413  0.869499   \n",
      "\n",
      "          7         8  \n",
      "0  1.535189  0.853233  \n",
      "1  1.397063  0.866232  \n",
      "2  1.917562  1.433169  \n",
      "3  1.492517  0.746572  \n",
      "4  1.570838  0.919316  \n",
      "5  1.886856  1.370413  \n",
      "6  1.495028  0.869499  \n",
      "7 -0.000000  1.408056  \n",
      "8  1.408056 -0.000000  \n"
     ]
    }
   ],
   "source": [
    "# Read sequences from sequences.fasta\n",
    "\n",
    "import pandas as pd\n",
    "import numpy as np\n",
    "from Bio import SeqIO\n",
    "from Bio import pairwise2\n",
    "\n",
    "# Read sequences from sequences.fasta\n",
    "sequences = []\n",
    "for record in SeqIO.parse(\"sequences.fasta\", \"fasta\"):\n",
    "    sequences.append(record.seq)\n",
    "    \n",
    "def calculate_distance(seqs):\n",
    "    matrix = np.zeros((len(seqs), len(seqs)))\n",
    "    for i, seq1 in enumerate(seqs):\n",
    "        for j, seq2 in enumerate(seqs):\n",
    "            real_score = pairwise2.align.globalxx(seq1, seq2, score_only=True)\n",
    "            shuffled_seq1 = ''.join(np.random.choice(list(seq1), len(seq1)))\n",
    "            shuffled_seq2 = ''.join(np.random.choice(list(seq2), len(seq2)))\n",
    "            shuf_score = pairwise2.align.globalxx(shuffled_seq1, shuffled_seq2, score_only=True)\n",
    "            real_scoreii = pairwise2.align.globalxx(seq1, seq1, score_only=True)\n",
    "            real_scorejj = pairwise2.align.globalxx(seq2, seq2, score_only=True)\n",
    "            effect_score = -(np.log((real_score - shuf_score)/((1/2)*(real_scoreii + real_scorejj) - shuf_score)))\n",
    "            matrix[j][i] = effect_score\n",
    "            matrix[i][j] = effect_score\n",
    "    return matrix\n",
    "    \n",
    "matrix = calculate_distance(sequences)\n",
    "print(pd.DataFrame(matrix))\n",
    "\n",
    "    "
   ]
  }
 ],
 "metadata": {
  "kernelspec": {
   "display_name": "Python 3",
   "language": "python",
   "name": "python3"
  },
  "language_info": {
   "codemirror_mode": {
    "name": "ipython",
    "version": 3
   },
   "file_extension": ".py",
   "mimetype": "text/x-python",
   "name": "python",
   "nbconvert_exporter": "python",
   "pygments_lexer": "ipython3",
   "version": "3.10.9"
  },
  "vscode": {
   "interpreter": {
    "hash": "767d51c1340bd893661ea55ea3124f6de3c7a262a8b4abca0554b478b1e2ff90"
   }
  }
 },
 "nbformat": 4,
 "nbformat_minor": 5
}
