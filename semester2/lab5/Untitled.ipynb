{
 "cells": [
  {
   "cell_type": "code",
   "execution_count": 56,
   "id": "a852eb17",
   "metadata": {},
   "outputs": [
    {
     "name": "stdout",
     "output_type": "stream",
     "text": [
      "          0         1         2         3         4         5         6  \\\n",
      "0 -0.000000  0.392406  0.629151  0.334892  0.363543  0.662858  0.349674   \n",
      "1  0.392406 -0.000000  0.832909  0.418670  0.489872  0.962276  0.461594   \n",
      "2  0.629151  0.832909 -0.000000  0.796005  0.658361  0.301668  0.586192   \n",
      "3  0.334892  0.418670  0.796005 -0.000000  0.413687  0.826214  0.416823   \n",
      "4  0.363543  0.489872  0.658361  0.413687 -0.000000  0.629159  0.321267   \n",
      "5  0.662858  0.962276  0.301668  0.826214  0.629159 -0.000000  0.632589   \n",
      "6  0.349674  0.461594  0.586192  0.416823  0.321267  0.632589 -0.000000   \n",
      "7  1.653149  1.486220  1.955603  1.548350  1.505069  1.962259  1.461018   \n",
      "8  0.853233  0.874476  1.413106  0.764099  0.867917  1.370413  0.892241   \n",
      "\n",
      "          7         8  \n",
      "0  1.653149  0.853233  \n",
      "1  1.486220  0.874476  \n",
      "2  1.955603  1.413106  \n",
      "3  1.548350  0.764099  \n",
      "4  1.505069  0.867917  \n",
      "5  1.962259  1.370413  \n",
      "6  1.461018  0.892241  \n",
      "7 -0.000000  1.408056  \n",
      "8  1.408056 -0.000000  \n"
     ]
    }
   ],
   "source": [
    "# Read sequences from sequences.fasta\n",
    "\n",
    "import pandas as pd\n",
    "import numpy as np\n",
    "from Bio import SeqIO\n",
    "from Bio import pairwise2\n",
    "\n",
    "# Read sequences from sequences.fasta\n",
    "sequences = []\n",
    "for record in SeqIO.parse(\"sequences.fasta\", \"fasta\"):\n",
    "    sequences.append(record.seq)\n",
    "    \n",
    "def calculate_distance(seqs):\n",
    "    table = np.zeros((len(seqs), len(seqs)))\n",
    "    for i, seq1 in enumerate(seqs):\n",
    "        for j, seq2 in enumerate(seqs):\n",
    "            real_score = pairwise2.align.globalxx(seq1, seq2, score_only=True)\n",
    "            shuffled_seq1 = ''.join(np.random.choice(list(seq1), len(seq1)))\n",
    "            shuffled_seq2 = ''.join(np.random.choice(list(seq2), len(seq2)))\n",
    "            shuf_score = pairwise2.align.globalxx(shuffled_seq1, shuffled_seq2, score_only=True)\n",
    "            real_scoreii = pairwise2.align.globalxx(seq1, seq1, score_only=True)\n",
    "            real_scorejj = pairwise2.align.globalxx(seq2, seq2, score_only=True)\n",
    "            effect_score = -(np.log((real_score - shuf_score)/((1/2)*(real_scoreii + real_scorejj) - shuf_score)))\n",
    "            table[j][i] = effect_score\n",
    "            table[i][j] = effect_score\n",
    "    return table\n",
    "    \n",
    "table = calculate_distance(sequences)\n",
    "print(pd.DataFrame(table))\n",
    "\n",
    "    "
   ]
  },
  {
   "cell_type": "code",
   "execution_count": 67,
   "id": "983d736e",
   "metadata": {},
   "outputs": [],
   "source": [
    "table = [\n",
    "    [0.397327],\n",
    "    [0.650773, 0.850239],\n",
    "    [0.337268, 0.420779, 0.812019],\n",
    "    [0.363543, 0.487295, 0.668837, 0.409534],\n",
    "    [0.683444, 0.898138, 0.289359, 0.837510, 0.638963],\n",
    "    [0.341303, 0.476572, 0.568574, 0.397591, 0.320495, 0.616971],\n",
    "    [1.535189, 1.397063, 1.917562, 1.492517, 1.570838, 1.886856, 1.495028],\n",
    "    [0.853233, 0.866232, 1.433169, 0.746572, 0.919316, 1.370413, 0.869499, 1.408056]\n",
    "]"
   ]
  },
  {
   "cell_type": "code",
   "execution_count": 68,
   "id": "905b1dc9",
   "metadata": {},
   "outputs": [
    {
     "data": {
      "text/plain": [
       "'(((((A,F),D),B),(C,E)),(G,H))'"
      ]
     },
     "execution_count": 68,
     "metadata": {},
     "output_type": "execute_result"
    }
   ],
   "source": [
    "def lowest_cell(table):\n",
    "    # Set default to infinity\n",
    "    min_cell = float(\"inf\")\n",
    "    x, y = -1, -1\n",
    "\n",
    "    for i in range(len(table)):\n",
    "        for j in range(len(table[i])):\n",
    "            if table[i][j] < min_cell:\n",
    "                min_cell = table[i][j]\n",
    "                x, y = i, j\n",
    "\n",
    "    return x, y\n",
    "\n",
    "def join_labels(labels, a, b):\n",
    "    if b < a:\n",
    "        a, b = b, a\n",
    "    labels[a] = \"(\" + labels[a] + \",\" + labels[b] + \")\"\n",
    "\n",
    "    del labels[b]\n",
    "\n",
    "\n",
    "def join_table(table, a, b):\n",
    "    if b < a:\n",
    "        a, b = b, a\n",
    "\n",
    "    row = []\n",
    "    for i in range(0, a):\n",
    "        row.append((table[a][i] + table[b][i])/2)\n",
    "    table[a] = row\n",
    "    \n",
    "    for i in range(a+1, b):\n",
    "        table[i][a] = (table[i][a]+table[b][i])/2\n",
    "        \n",
    "    for i in range(b+1, len(table)):\n",
    "        table[i][a] = (table[i][a]+table[i][b])/2\n",
    "        del table[i][b]\n",
    "\n",
    "    del table[b]\n",
    "\n",
    "def UPGMA(table, labels):\n",
    "    while len(labels) > 1:\n",
    "        x, y = lowest_cell(table)\n",
    "\n",
    "        join_table(table, x, y)\n",
    "\n",
    "        join_labels(labels, x, y)\n",
    "\n",
    "    return labels[0]\n",
    "\n",
    "\n",
    "def alpha_labels(start, end):\n",
    "    labels = []\n",
    "    for i in range(ord(start), ord(end)+1):\n",
    "        labels.append(chr(i))\n",
    "    return labels\n",
    "\n",
    "labels = alpha_labels(\"A\", \"H\")\n",
    "UPGMA(table, labels)\n",
    "\n",
    "# draw a tree from the output of UPGMA\n",
    "\n"
   ]
  }
 ],
 "metadata": {
  "kernelspec": {
   "display_name": "Python 3",
   "language": "python",
   "name": "python3"
  },
  "language_info": {
   "codemirror_mode": {
    "name": "ipython",
    "version": 3
   },
   "file_extension": ".py",
   "mimetype": "text/x-python",
   "name": "python",
   "nbconvert_exporter": "python",
   "pygments_lexer": "ipython3",
   "version": "3.10.9"
  },
  "vscode": {
   "interpreter": {
    "hash": "767d51c1340bd893661ea55ea3124f6de3c7a262a8b4abca0554b478b1e2ff90"
   }
  }
 },
 "nbformat": 4,
 "nbformat_minor": 5
}
