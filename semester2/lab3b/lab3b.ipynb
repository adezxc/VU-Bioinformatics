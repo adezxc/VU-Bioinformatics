{
 "cells": [
  {
   "cell_type": "code",
   "execution_count": 45,
   "metadata": {},
   "outputs": [],
   "source": [
    "from Bio import SeqIO\n",
    "from Bio.Seq import Seq\n",
    "from Bio import pairwise2\n",
    "from Bio import Entrez\n",
    "import numpy as np\n",
    "import matplotlib.pyplot as plt\n",
    "import random\n",
    "\n",
    "Entrez.email = 'adam.jasinski@mif.stud.vu.lt'\n",
    "\n",
    "id = 'NZ_CP011070.1'"
   ]
  },
  {
   "cell_type": "code",
   "execution_count": 5,
   "metadata": {},
   "outputs": [],
   "source": [
    "file = open(\"sequence.fasta\", \"w\")\n",
    "\n",
    "handle = Entrez.efetch(db=\"nuccore\", id=id, rettype=\"fasta\", retmode=\"text\")\n",
    "record = handle.read()\n",
    "file.write(record)\n",
    "file.close()"
   ]
  },
  {
   "cell_type": "markdown",
   "metadata": {},
   "source": [
    "CODE  DESCRIPTION\n",
    "x     No parameters. Identical characters have score of 1, else 0.\n",
    "m     A match score is the score of identical chars, else mismatch\n",
    "      score.\n",
    "d     A dictionary returns the score of any pair of characters.\n",
    "c     A callback function returns scores.\n",
    "\n",
    "CODE  DESCRIPTION\n",
    "x     No gap penalties.\n",
    "s     Same open and extend gap penalties for both sequences.\n",
    "d     The sequences have different open and extend gap penalties.\n",
    "c     A callback function returns the gap penalties."
   ]
  },
  {
   "cell_type": "code",
   "execution_count": 51,
   "metadata": {},
   "outputs": [],
   "source": [
    "seq = ''\n",
    "\n",
    "for record in SeqIO.parse(\"sequence.fasta\", \"fasta\"):\n",
    "    seq = record.seq\n",
    "    \n",
    "fragmentStart = random.randint(0, len(seq)-2000)\n",
    "fragmentT = seq[fragmentStart:fragmentStart+2000]\n",
    "\n",
    "randomFragments = []\n",
    "\n",
    "while len(randomFragments) < 10000:\n",
    "    randomFragmentStart = random.randint(0, len(seq)-100)\n",
    "    if randomFragmentStart > fragmentStart and randomFragmentStart < fragmentStart + 2000 or randomFragmentStart + 100 > fragmentStart and randomFragmentStart + 100 < fragmentStart + 2000:\n",
    "        continue\n",
    "    \n",
    "    randomFragments.append(seq[randomFragmentStart:randomFragmentStart+100])\n",
    "\n",
    "\n",
    "scores = []\n",
    "for i, seq in enumerate(randomFragments):\n",
    "    alignmentScore = pairwise2.align.localms(seq,fragmentT, 5, -4, -5, 0, score_only=True)\n",
    "    scores.append(round(alignmentScore))\n"
   ]
  },
  {
   "cell_type": "code",
   "execution_count": 52,
   "metadata": {},
   "outputs": [
    {
     "data": {
      "image/png": "[encoded data removed]",
      "text/plain": [
       "<Figure size 640x480 with 1 Axes>"
      ]
     },
     "metadata": {},
     "output_type": "display_data"
    }
   ],
   "source": [
    "_ = plt.hist(scores)"
   ]
  }
 ],
 "metadata": {
  "kernelspec": {
   "display_name": "Python 3.10.8 64-bit",
   "language": "python",
   "name": "python3"
  },
  "language_info": {
   "codemirror_mode": {
    "name": "ipython",
    "version": 3
   },
   "file_extension": ".py",
   "mimetype": "text/x-python",
   "name": "python",
   "nbconvert_exporter": "python",
   "pygments_lexer": "ipython3",
   "version": "3.10.8"
  },
  "orig_nbformat": 4,
  "vscode": {
   "interpreter": {
    "hash": "767d51c1340bd893661ea55ea3124f6de3c7a262a8b4abca0554b478b1e2ff90"
   }
  }
 },
 "nbformat": 4,
 "nbformat_minor": 2
}
