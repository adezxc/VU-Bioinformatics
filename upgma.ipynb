{
 "cells": [
  {
   "cell_type": "code",
   "execution_count": 4,
   "metadata": {},
   "outputs": [],
   "source": [
    "from Bio import SeqIO\n",
    "from Bio.Emboss.Applications import NeedleCommandline\n",
    "import numpy as np\n",
    "\n",
    "sequences = []\n",
    "\n",
    "with open(\"example.fasta\") as handle:\n",
    "    for record in SeqIO.parse(handle, \"fasta\"):\n",
    "        sequences.append(str(record.seq))\n",
    "handle.close()"
   ]
  },
  {
   "cell_type": "code",
   "execution_count": 10,
   "metadata": {},
   "outputs": [
    {
     "ename": "ZeroDivisionError",
     "evalue": "float division by zero",
     "output_type": "error",
     "traceback": [
      "\u001b[0;31m---------------------------------------------------------------------------\u001b[0m",
      "\u001b[0;31mZeroDivisionError\u001b[0m                         Traceback (most recent call last)",
      "Cell \u001b[0;32mIn [10], line 16\u001b[0m\n\u001b[1;32m     14\u001b[0m \u001b[39mfor\u001b[39;00m i \u001b[39min\u001b[39;00m sequences:\n\u001b[1;32m     15\u001b[0m     \u001b[39mfor\u001b[39;00m j \u001b[39min\u001b[39;00m sequences:\n\u001b[0;32m---> 16\u001b[0m         effect \u001b[39m=\u001b[39m (real(i, j))\u001b[39m/\u001b[39;49m((\u001b[39m1\u001b[39;49m\u001b[39m/\u001b[39;49m\u001b[39m2\u001b[39;49m) \u001b[39m*\u001b[39;49m (real(i, i) \u001b[39m+\u001b[39;49m real(j, j)))\n\u001b[1;32m     17\u001b[0m         np\u001b[39m.\u001b[39mlog(effect)\n",
      "\u001b[0;31mZeroDivisionError\u001b[0m: float division by zero"
     ]
    }
   ],
   "source": [
    "# Calculate distances between all sequences\n",
    "\n",
    "def real(i, j):\n",
    "    text_file = open(\"seq1.txt\", \"w\")\n",
    "    text_file.write(i)\n",
    "    text_file.close()\n",
    "    text_file = open(\"seq2.txt\", \"w\")\n",
    "    text_file.write(j)\n",
    "    text_file.close()\n",
    "    needle_cline = NeedleCommandline(asequence='seq1.txt', bsequence='seq2.txt', outfile='needle.txt', gapopen=10, gapextend=0.5)\n",
    "    stdout, stderr = needle_cline()\n",
    "    text_file = open(\"needle.txt\", \"r\")\n",
    "    text_file.write(j)\n",
    "    text_file.close()\n",
    "    return 0\n",
    "\n",
    "for i in sequences:\n",
    "    for j in sequences:\n",
    "        effect = (real(i, j))/((1/2) * (real(i, i) + real(j, j)))\n",
    "        np.log(effect)\n"
   ]
  }
 ],
 "metadata": {
  "kernelspec": {
   "display_name": "Python 3",
   "language": "python",
   "name": "python3"
  },
  "language_info": {
   "codemirror_mode": {
    "name": "ipython",
    "version": 3
   },
   "file_extension": ".py",
   "mimetype": "text/x-python",
   "name": "python",
   "nbconvert_exporter": "python",
   "pygments_lexer": "ipython3",
   "version": "3.10.9 (main, Dec  7 2022, 00:00:00) [GCC 12.2.1 20221121 (Red Hat 12.2.1-4)]"
  },
  "orig_nbformat": 4,
  "vscode": {
   "interpreter": {
    "hash": "e7370f93d1d0cde622a1f8e1c04877d8463912d04d973331ad4851f04de6915a"
   }
  }
 },
 "nbformat": 4,
 "nbformat_minor": 2
}
